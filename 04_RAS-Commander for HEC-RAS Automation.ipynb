{
 "cells": [
  {
   "cell_type": "markdown",
   "metadata": {},
   "source": [
    "# Utilizing RAS-Commander for HEC-RAS Automation \n",
    "\n",
    "In this portion of the workshop we will use LLM's to use the new RAS-Commander Library to directly test the Manning's n function that we created in the first hour of the workshop.  \n",
    "\n",
    "\n",
    "Workshop users can either download the full repository:  \n",
    "[RAS-Commander Github Repository](https://github.com/gpt-cmdr/ras-commander/tree/main)  \n",
    "\n",
    "![Download RAS-Commander Repository](images/rascmdr-downloadrepo.png)  \n",
    "\n",
    "Or download the LLM knowledge base for RAS-Commander and utilize Google AI Studio:  \n",
    "[RAS-Commander API Reference Markdown File](https://github.com/gpt-cmdr/ras-commander/tree/main/ai_tools/llm_knowledge_bases) \n",
    "\n",
    "Due to the size of the code base, your LLM may not be able to handle the full repositorys contents.  \n",
    "\n",
    "\n",
    "NOTE: To avoid delays later in the presentation due to wifi speed, download the HEC-RAS Example Projects .zip to the ASFPM-LLM-Data-Management-Workshop folder: \n",
    "https://github.com/HydrologicEngineeringCenter/hec-downloads/releases/download/1.0.33/Example_Projects_6_6.zip  \n",
    "(The ras-commander library will use this file automatically as long as it is in the same folder as the notebook)\n",
    "\n",
    "\n",
    "Or run the code cell below:"
   ]
  },
  {
   "cell_type": "code",
   "execution_count": null,
   "metadata": {},
   "outputs": [],
   "source": [
    "# Optional: Let the HEC-RAS Example Projects begin to download while we continue the presentation:\n",
    "!curl -L -o Example_Projects_6_6.zip https://github.com/HydrologicEngineeringCenter/hec-downloads/releases/download/1.0.33/Example_Projects_6_6.zip"
   ]
  },
  {
   "cell_type": "markdown",
   "metadata": {},
   "source": [
    "## Summary of Pre-Compiled LLM Knowledge Bases for ras-commander:\n",
    "\n",
    "**ras-commander_fullrepo.txt** _~650k Tokens_ - All contents of the repository, all functions, cleaned notebooks, and documentation\n",
    "\n",
    "**ras_commander_documentation_only.txt** _~188k Tokens_ - Repository Documntation, without Code.  \n",
    "\n",
    "**ras_commander_classes_and_functions_only.txt** _~137k Tokens_ - Includes just the code.  Combine this with an example notebook in Claude or ChatGPT's o1/o3 model to ask questions and request revisions or additions\n",
    "\n",
    "**ras_commander_ras_functions_only.txt** _~80k tokens_ - Includes only the code for RAS automation functions\n",
    "\n",
    "ras_commander_hdf_functions_only.txt 90k** _~89k tokens_ - Includes only the code for HDF data access"
   ]
  },
  {
   "cell_type": "markdown",
   "metadata": {},
   "source": [
    "## How to Leverage LLM's with RAS-Commander\n",
    "\n",
    "- [RAS-Commander GPT](https://chatgpt.com/g/g-TZRPR3oAO-ras-commander-library-assistant)\n",
    "    Similar to the GPT's we have built in this class, this GPT has access to the RAS-Commander codebase and documentation, and can perform limited operations using ChatGPT's Code Interpreter.  2 Example projects are included. \n",
    "\n",
    "- [API Documentation](https://github.com/gpt-cmdr/ras-commander/blob/main/api.md)(shown above)\n",
    "    This document provides the minimum documentation needed for an LLM to translate your plain language commands to a series of python function calls that interact with HEC-RAS Files.\n",
    "\n",
    "    \n",
    "- Not covered in this course:\n",
    "\n",
    "    - [Detailed Knowledge Bases](https://github.com/gpt-cmdr/ras-commander/tree/main/ai_tools/llm_knowledge_bases)  \n",
    "    These knowledge bases comprise of various combinations of plain text files from the repository to provide more comprehensive context.  These are suitable for more advanced development where you want the LLM to see the underlying logic to create new functions or develop new features. \n",
    "\n",
    "    - [Cursor IDE Integration](https://github.com/gpt-cmdr/ras-commander/blob/main/.cursor/rules/ras-commander.mdc)\n",
    "        For users that have the AI-powered VS Code Fork Cursor, there is a .cursorrules file included in the repository that automatically loads system instructions when making requests\n",
    "\n",
    "\n",
    "    - [RAS-Commander Library Assistant](https://github.com/gpt-cmdr/ras-commander/tree/main/ai_tools/library_assistant)\n",
    "        For users that want to use RAS-Commander with a pay-as-you-go API key from OpenAI, Anthropic, or other providers.  \n"
   ]
  },
  {
   "cell_type": "markdown",
   "metadata": {
    "vscode": {
     "languageId": "plaintext"
    }
   },
   "source": [
    "## Using the RAS-Commander GPT Assistant\n",
    "\n",
    "Before starting on our notebook, use the GPT Assistant to explore our files \n",
    "\n",
    "\n",
    "![RAS-Commander GPT Assistant Exporatory Prompts](images/rascmdr_gpt_defaults.png)\n",
    "\n",
    "\n",
    "The GPT has a copy of the results from 2 HEC-RAS Example Projects (Bald Eagle Creek and the Pipes Beta project).  However GPT's are not yet reliable enough for heavy lifting with the library.  \n",
    "\n",
    "Workshop users are invited to take 2-3 minutes to upload the `RAS_Muncie.p04.hdf` file and ask for a summary of project information and request geometric data or time series results.  These requests may or not be successful, and we will continue with oher methods to improve responses and perform the Manning's N automation. "
   ]
  },
  {
   "cell_type": "markdown",
   "metadata": {},
   "source": [
    "-----"
   ]
  },
  {
   "cell_type": "markdown",
   "metadata": {},
   "source": [
    "## Proposed Workflow Description\n",
    "\n",
    "Here we will describe the workflow that will be required to implement and test the Manning's N Base Overrides and Regional Override functions, using the HEC-RAS Example Project \"BaldEagleCrkMulti2D\", which has the project name \"BaldEagleDamBrk\"\n",
    "\n",
    "### Detailed Workflow\n",
    "\n",
    "    1. Create \"RAS-Commander Test\" subfolder in the same directory as this notebook, then extract \"BaldEagleMulti2D\"\n",
    "    2. List all project dataframes for the user's review\n",
    "    3. Existing Plan 06 uses Geometry 09.  Both of these will need to be cloned and the new plan will need to have the new geomery set as the active geometry\n",
    "    4. In the new plan and geometry, revise the Plan Name, ShortID and Description to denote that all roughness tables are increased by 0.01\n",
    "    5. Using the functions below, revise all base and region overrides in the new plan\n",
    "    6. Run both plans, parallel, 2 cores apiece\n",
    "    7. Using the point (2081626, 366459), find the nearest mesh cell and compare the results for the Template and Revised Plan.  Create a plot showing water surface elevation a the closest mesh cell. \n",
    "\n",
    "Work step by step through the notebook, including Markdown cells that explain each RAS-Commander function, its arguments, and how we are using it in our notebook.  Clearly explain the notebook's operation and show all work to maintain transparent operation.  \n",
    "\n",
    "Favor simple and concise code, and short segments of code that are easy to understand, to allow the user to observe each step.  \n",
    "\n"
   ]
  },
  {
   "cell_type": "markdown",
   "metadata": {},
   "source": [
    "-----"
   ]
  },
  {
   "cell_type": "markdown",
   "metadata": {},
   "source": [
    "## Reference Functions from Previous Notebook\n",
    "\n",
    "The following function is from a previous notebook, it is tested and works. \n",
    "\n"
   ]
  },
  {
   "cell_type": "code",
   "execution_count": 3,
   "metadata": {},
   "outputs": [],
   "source": [
    "# Manning's N Override Functions to use in this notebook. \n",
    "import pandas as pd\n",
    "from pathlib import Path\n",
    "\n",
    "\n",
    "\n",
    "\n",
    "\n",
    "# === Parsing functions ===\n",
    "def parse_lcmann_table(lines):\n",
    "    table_data = []\n",
    "    current_table_number = None\n",
    "\n",
    "    for i, line in enumerate(lines):\n",
    "        if line.startswith(\"LCMann Table=\"):\n",
    "            current_table_number = line.split(\"=\")[-1].strip()\n",
    "            j = i + 1\n",
    "            while j < len(lines):\n",
    "                next_line = lines[j].strip()\n",
    "                if next_line.startswith(\"LCMann\") or not next_line or \"=\" in next_line:\n",
    "                    break\n",
    "                if ',' in next_line:\n",
    "                    try:\n",
    "                        land_cover, n_val = next_line.rsplit(\",\", 1)\n",
    "                        table_data.append([current_table_number, land_cover.strip(), float(n_val.strip())])\n",
    "                    except ValueError:\n",
    "                        pass\n",
    "                j += 1\n",
    "            break\n",
    "\n",
    "    return pd.DataFrame(table_data, columns=[\"Table\", \"Land Cover Type\", \"n\"])\n",
    "\n",
    "def parse_lcmann_region_table(lines):\n",
    "    table_data = []\n",
    "    current_table_number = None\n",
    "\n",
    "    for i, line in enumerate(lines):\n",
    "        if line.startswith(\"LCMann Region Table=\"):\n",
    "            current_table_number = line.split(\"=\")[-1].strip()\n",
    "            j = i + 1\n",
    "            while j < len(lines):\n",
    "                next_line = lines[j].strip()\n",
    "                if next_line.startswith(\"LCMann\") or not next_line or \"=\" in next_line:\n",
    "                    break\n",
    "                if ',' in next_line:\n",
    "                    try:\n",
    "                        land_cover, n_val = next_line.rsplit(\",\", 1)\n",
    "                        table_data.append([current_table_number, land_cover.strip(), float(n_val.strip())])\n",
    "                    except ValueError:\n",
    "                        pass\n",
    "                j += 1\n",
    "            break\n",
    "\n",
    "    return pd.DataFrame(table_data, columns=[\"Table\", \"Land Cover Type\", \"n\"])\n"
   ]
  },
  {
   "cell_type": "markdown",
   "metadata": {},
   "source": [
    "Example Usage from Previous Notebook\n",
    "\n",
    "The function is included above, and all code that was specific to the previous notebook is placed here for reference: \n",
    "```\n",
    "## === User-defined file paths ===\n",
    "input_file = Path(r\"C:\\GH\\ASFPM-LLM-Data-Management-Workshop\\Data\\Ascii\\RAS_BaldEagleDamBrk.g09\")\n",
    "output_lcmann_csv = \"LCMann_Table.csv\"\n",
    "output_lcmann_region_csv = \"LCMann_Region_Table.csv\"\n",
    "\n",
    "## === Read geometry file ===\n",
    "with open(input_file, \"r\", encoding=\"utf-8\", errors=\"ignore\") as file:\n",
    "    lines = file.readlines()\n",
    "\n",
    "## === Parse both tables ===\n",
    "lcmann_df = parse_lcmann_table(lines)\n",
    "lcmann_region_df = parse_lcmann_region_table(lines)\n",
    "\n",
    "## Display both tables\n",
    "print(\"LCMann Table:\")\n",
    "display(lcmann_df)\n",
    "print(\"\\nLCMann Region Table:\")\n",
    "display(lcmann_region_df)\n",
    "\n",
    "## === Export to CSV ===\n",
    "lcmann_df.to_csv(output_lcmann_csv, index=False)\n",
    "lcmann_region_df.to_csv(output_lcmann_region_csv, index=False)\n",
    "\n",
    "print(f\"Saved LCMann Table to: {output_lcmann_csv}\")\n",
    "print(f\"Saved LCMann Region Table to: {output_lcmann_region_csv}\")\n",
    "```"
   ]
  },
  {
   "cell_type": "code",
   "execution_count": 4,
   "metadata": {},
   "outputs": [],
   "source": [
    "def write_lcmann_table(df, lines):\n",
    "    new_lines = lines.copy()\n",
    "    for i, line in enumerate(lines):\n",
    "        if line.startswith(\"LCMann Table=\"):\n",
    "            j = i + 1\n",
    "            while j < len(lines):\n",
    "                current = lines[j].strip()\n",
    "                if current.startswith(\"LCMann\") or not current or \"=\" in current:\n",
    "                    break\n",
    "                j += 1\n",
    "            # Replace the block between i+1 and j with updated lines\n",
    "            updated_block = [f\"{row['Land Cover Type']},{row['n']:.3f}\\n\" for _, row in df.iterrows()]\n",
    "            new_lines[i+1:j] = updated_block\n",
    "            break\n",
    "    return new_lines\n",
    "\n",
    "# NOTE: We don't need LCMann Region Tables (they do not exist in this geometry)"
   ]
  },
  {
   "cell_type": "markdown",
   "metadata": {},
   "source": [
    "Example Usage from Previous Notebook\n",
    "\n",
    "The function is included above, and all code that was specific to the previous notebook is placed here for reference: \n",
    "```\n",
    "# 🧪 Example: increase all 'n' values by 0.02\n",
    "lcmann_df['n'] += 0.002\n",
    "print(\"Revised LCMann Table:\")\n",
    "display(lcmann_df)\n",
    "\n",
    "# 🛠 Update the file content\n",
    "updated_lines = write_lcmann_table(lcmann_df, lines)\n",
    "\n",
    "# 💾 Write updated geometry back to disk (overwrite or save as new)\n",
    "output_file = Path(r\"RAS_BaldEagleDamBrk_MODIFIED.g09\")\n",
    "with open(output_file, \"w\", encoding=\"utf-8\") as f:\n",
    "    f.writelines(updated_lines)\n",
    "\n",
    "print(f\"Updated geometry file saved to: {output_file}\")\n",
    "```"
   ]
  },
  {
   "cell_type": "markdown",
   "metadata": {},
   "source": [
    "-----"
   ]
  },
  {
   "cell_type": "markdown",
   "metadata": {},
   "source": [
    "# RAS-Commander Installation and Import"
   ]
  },
  {
   "cell_type": "code",
   "execution_count": 5,
   "metadata": {},
   "outputs": [],
   "source": [
    "# If you haven't installed ras-commander, remove the leading # on the next line:\n",
    "#!pip install --upgrade ras-commander\n",
    "\n",
    "# Import all functions and classes from ras-commander\n",
    "from ras_commander import *"
   ]
  },
  {
   "cell_type": "code",
   "execution_count": 6,
   "metadata": {},
   "outputs": [],
   "source": [
    "# All Other Imports (consolidate all imports here)\n",
    "import os\n",
    "import shutil"
   ]
  },
  {
   "cell_type": "markdown",
   "metadata": {},
   "source": [
    "# Project Setup \n",
    "\n",
    "All outputs of this notebook should be placed in the subfolder \"RAS-Commander Mannings Sensitivity Test\".  \n",
    "\n",
    "If the folder exists, delete it.  Otherwise, create it.  This will make our notebook repeatable. \n",
    "\n",
    "This folder should be sensitivity_folder and should be set as the current working direcory to simplify paths in the notebook. \n"
   ]
  },
  {
   "cell_type": "markdown",
   "metadata": {},
   "source": [
    "## Extract RAS Example Project with RASExamples\n",
    "\n",
    "The RasExamples.extract_project function will download the HEC Example projects zip file and extracts the specified example project by name.  The function creates the subfolder \"example_projects\" and places the example project in that subfolder.  The function returns the path so we can easily initialize it."
   ]
  },
  {
   "cell_type": "code",
   "execution_count": 7,
   "metadata": {},
   "outputs": [],
   "source": [
    "# Due to slow download speeds on the shared wifi, download this .zip that contains only the BaldEagleCrkMulti2D Project:\n",
    "\n",
    "\n"
   ]
  },
  {
   "cell_type": "code",
   "execution_count": null,
   "metadata": {},
   "outputs": [],
   "source": [
    "# Extract RasExamples.exract_project \"BaldEagleCrkMulti2D\" (it will default to writing to subfolder \"example_projects\")\n",
    "project_folder = RasExamples.extract_project(\"BaldEagleCrkMulti2D\")\n",
    "\n",
    "project_folder"
   ]
  },
  {
   "cell_type": "code",
   "execution_count": null,
   "metadata": {},
   "outputs": [],
   "source": []
  },
  {
   "cell_type": "markdown",
   "metadata": {},
   "source": [
    "## Initialize RAS Project with RAS-Commander\n",
    "\n",
    "This function reads the HEC-RAS PRJ, Plan, Unsteady and RASMapper files to retrieve data into dataframes for programmatic use.  "
   ]
  },
  {
   "cell_type": "code",
   "execution_count": null,
   "metadata": {},
   "outputs": [],
   "source": [
    "init_ras_project(project_folder, \"6.6\")"
   ]
  },
  {
   "cell_type": "markdown",
   "metadata": {},
   "source": [
    "-----\n",
    "Show all Project Dataframes"
   ]
  },
  {
   "cell_type": "markdown",
   "metadata": {},
   "source": [
    "## Display Project Dataframes\n",
    "(For information only, we will be using plan 18 for this demonstration)"
   ]
  },
  {
   "cell_type": "code",
   "execution_count": null,
   "metadata": {},
   "outputs": [],
   "source": [
    "ras.plan_df"
   ]
  },
  {
   "cell_type": "code",
   "execution_count": null,
   "metadata": {},
   "outputs": [],
   "source": [
    "ras.geom_df"
   ]
  },
  {
   "cell_type": "code",
   "execution_count": null,
   "metadata": {},
   "outputs": [],
   "source": [
    "ras.flow_df"
   ]
  },
  {
   "cell_type": "code",
   "execution_count": null,
   "metadata": {},
   "outputs": [],
   "source": [
    "ras.boundaries_df"
   ]
  },
  {
   "cell_type": "code",
   "execution_count": null,
   "metadata": {},
   "outputs": [],
   "source": [
    "ras.rasmap_df"
   ]
  },
  {
   "cell_type": "markdown",
   "metadata": {},
   "source": [
    "-----"
   ]
  },
  {
   "cell_type": "markdown",
   "metadata": {},
   "source": [
    "## Specify Source Plan and Geometry"
   ]
  },
  {
   "cell_type": "code",
   "execution_count": null,
   "metadata": {},
   "outputs": [],
   "source": [
    "#We are using Plan 06 as the source plan\n",
    "source_plan = \"18\"\n",
    "\n",
    "source_plan\n"
   ]
  },
  {
   "cell_type": "code",
   "execution_count": null,
   "metadata": {},
   "outputs": [],
   "source": [
    "# using plan_df, look up geometry_number by plan_number (using source_plan)\n",
    "source_geom = ras.plan_df[ras.plan_df['plan_number'] == source_plan]['geometry_number'].iloc[0]\n",
    "\n",
    "source_geom"
   ]
  },
  {
   "cell_type": "markdown",
   "metadata": {},
   "source": [
    "## Clone Source Plan and Geometry and Set Active Geometry in Cloned Plan"
   ]
  },
  {
   "cell_type": "code",
   "execution_count": null,
   "metadata": {},
   "outputs": [],
   "source": [
    "revised_plan = RasPlan.clone_plan(source_plan)\n",
    "\n",
    "revised_plan"
   ]
  },
  {
   "cell_type": "code",
   "execution_count": null,
   "metadata": {},
   "outputs": [],
   "source": [
    "revised_geom = RasPlan.clone_geom(source_geom)\n",
    "\n",
    "revised_geom"
   ]
  },
  {
   "cell_type": "code",
   "execution_count": null,
   "metadata": {},
   "outputs": [],
   "source": [
    "# Set revised_geom as the active geometry for thew revised_plan\n",
    "\n",
    "RasPlan.set_geom(revised_plan, revised_geom)"
   ]
  },
  {
   "cell_type": "markdown",
   "metadata": {},
   "source": [
    "-----"
   ]
  },
  {
   "cell_type": "markdown",
   "metadata": {},
   "source": [
    "## Revise ShortID, Project Name and Description\n",
    "\n",
    "OPTIONAL: For revised_plan, replace the last 3 of the shortID with \"REV\" and put \"Revised\" in the project name, and \"REVISED MANNINGS N VALUES\" added to the description.  "
   ]
  },
  {
   "cell_type": "code",
   "execution_count": null,
   "metadata": {},
   "outputs": [],
   "source": [
    "# Get \"Plan Title\" and \"Short Identifier\" from plan_df using source_plan\n",
    "\n",
    "original_plantitle = ras.plan_df[ras.plan_df['plan_number'] == source_plan]['Plan Title'].iloc[0]\n",
    "original_shortid = ras.plan_df[ras.plan_df['plan_number'] == source_plan]['Short Identifier'].iloc[0]\n",
    "\n",
    "# Retrieve Description with RasPlan.read_plan_description\n",
    "original_description = RasPlan.read_plan_description(source_plan)"
   ]
  },
  {
   "cell_type": "code",
   "execution_count": null,
   "metadata": {},
   "outputs": [],
   "source": [
    "original_plantitle"
   ]
  },
  {
   "cell_type": "code",
   "execution_count": null,
   "metadata": {},
   "outputs": [],
   "source": [
    "original_shortid"
   ]
  },
  {
   "cell_type": "code",
   "execution_count": null,
   "metadata": {},
   "outputs": [],
   "source": [
    "original_description"
   ]
  },
  {
   "cell_type": "code",
   "execution_count": null,
   "metadata": {},
   "outputs": [],
   "source": [
    "# Revise the plan title, shorid and description and write it back to file.  \n",
    "\n",
    "# Create revised values\n",
    "revised_shortid = original_shortid[:-3] + \"REV\"\n",
    "revised_plantitle = \"Revised \" + original_plantitle\n",
    "revised_description = original_description + \" REVISED MANNINGS N VALUES\"\n",
    "\n",
    "# Write revised values back to plan file\n",
    "RasPlan.set_plan_title(revised_plan, revised_plantitle)\n",
    "RasPlan.set_shortid(revised_plan, revised_shortid) \n",
    "RasPlan.update_plan_description(revised_plan, revised_description)\n",
    "\n",
    "\n",
    "# Go back and re-run previous cells to confirm updates if desired"
   ]
  },
  {
   "cell_type": "markdown",
   "metadata": {},
   "source": [
    "-----"
   ]
  },
  {
   "cell_type": "markdown",
   "metadata": {},
   "source": [
    "## Revise Manning's N using the functions above \n",
    "\n",
    "NOTE: There is no Mannings n regional overrides in this geometry, so we are omitting the lcmann_region_table code"
   ]
  },
  {
   "cell_type": "code",
   "execution_count": null,
   "metadata": {},
   "outputs": [],
   "source": [
    "revised_plan"
   ]
  },
  {
   "cell_type": "code",
   "execution_count": null,
   "metadata": {},
   "outputs": [],
   "source": [
    "# We have the geometry number, so we can easily derive the geometry path\n",
    "# geometry path is project_folder + ras.project_name +.g{revised_geom}\n",
    "\n",
    "revised_geometry_path = os.path.join(ras.project_folder, ras.project_name + \".g\" + revised_geom)\n",
    "revised_geometry_path"
   ]
  },
  {
   "cell_type": "code",
   "execution_count": null,
   "metadata": {},
   "outputs": [],
   "source": [
    "# RE-USE THE PREVIOUS USAGE EXAMPLE, REVISED AS NOTED: \n",
    "\n",
    "## === User-defined file paths ===\n",
    "input_file = revised_geometry_path # changed to revised_geometry_path\n",
    "output_lcmann_csv = os.path.join(ras.project_folder, \"LCMann_Table.csv\") # changed to place in ras.project_folder\n",
    "\n",
    "## === Read geometry file ===\n",
    "with open(input_file, \"r\", encoding=\"utf-8\", errors=\"ignore\") as file:\n",
    "    lines = file.readlines()\n",
    "\n",
    "## === Parse both tables ===\n",
    "lcmann_df = parse_lcmann_table(lines)\n",
    "\n",
    "## Display both tables\n",
    "print(\"LCMann Table:\")\n",
    "display(lcmann_df)\n",
    "\n",
    "## === Export to CSV ===\n",
    "lcmann_df.to_csv(output_lcmann_csv, index=False)\n",
    "print(f\"Saved LCMann Table to: {output_lcmann_csv}\")\n"
   ]
  },
  {
   "cell_type": "code",
   "execution_count": null,
   "metadata": {},
   "outputs": [],
   "source": [
    "# 🧪 Example: increase all 'n' values by 0.006\n",
    "lcmann_df['n'] += 0.006\n",
    "print(\"Revised LCMann Table:\")\n",
    "display(lcmann_df)\n",
    "\n",
    "# 🛠 Update the file content\n",
    "updated_lines = write_lcmann_table(lcmann_df, lines)\n",
    "\n",
    "# 💾 Write updated geometry back to disk (overwrite or save as new)\n",
    "output_file = revised_geometry_path                                               # Changed to revised_geometry_path\n",
    "with open(output_file, \"w\", encoding=\"utf-8\") as f:\n",
    "    f.writelines(updated_lines)\n",
    "\n",
    "print(f\"Updated geometry file saved to: {output_file}\")"
   ]
  },
  {
   "cell_type": "markdown",
   "metadata": {},
   "source": [
    "## Run Both Source and Revised Plan in Parallel"
   ]
  },
  {
   "cell_type": "code",
   "execution_count": null,
   "metadata": {},
   "outputs": [],
   "source": [
    "RasCmdr.compute_parallel([source_plan, revised_plan], num_cores=2, clear_geompre=True)"
   ]
  },
  {
   "cell_type": "markdown",
   "metadata": {},
   "source": [
    "## Extract Results for Both Plans"
   ]
  },
  {
   "cell_type": "code",
   "execution_count": null,
   "metadata": {},
   "outputs": [],
   "source": [
    "### INSERT NEW CODE AND MARKDOWN CELLS HERE\n",
    "\n",
    "source_plan_resuls_xr = HdfResultsMesh.get_mesh_cells_timeseries(source_plan)\n",
    "revised_plan_resuls_xr = HdfResultsMesh.get_mesh_cells_timeseries(revised_plan)"
   ]
  },
  {
   "cell_type": "code",
   "execution_count": null,
   "metadata": {},
   "outputs": [],
   "source": [
    "# Display xarray information \n",
    "source_plan_resuls_xr "
   ]
  },
  {
   "cell_type": "code",
   "execution_count": null,
   "metadata": {},
   "outputs": [],
   "source": [
    "# Display xarray information \n",
    "revised_plan_resuls_xr "
   ]
  },
  {
   "cell_type": "markdown",
   "metadata": {},
   "source": [
    "## Compare Results and Plot Results at Mesh Cell #116 (2079571, 367903) to compare results\n",
    "\n",
    "To make things simpler, I opened RASMapper to get the Cell #116.  \n",
    "\n",
    "![RASMapper - Geometry .g11](images\\rascmdr_rasmap_results.png)  \n",
    "\n"
   ]
  },
  {
   "cell_type": "code",
   "execution_count": null,
   "metadata": {},
   "outputs": [],
   "source": [
    "import matplotlib.pyplot as plt\n",
    "\n",
    "# --- Plot Comparison at Cell ---\n",
    "print(\"Generating comparison plot for cell 116...\")\n",
    "\n",
    "# Define the cell ID and variables to compare\n",
    "target_cell_id = 116\n",
    "\n",
    "# Initialize figure\n",
    "fig, ax = plt.subplots(figsize=(12, 6))\n",
    "\n",
    "# Plot data for source plan\n",
    "source_cell_ts = source_plan_resuls_xr['BaldEagleCr']['Water Surface'].sel(cell_id=target_cell_id)\n",
    "ax.plot(source_cell_ts.time.values, source_cell_ts.values, \n",
    "        label=f\"Original (Plan {source_plan})\", \n",
    "        color='blue', linewidth=1.5)\n",
    "\n",
    "# Add peak value line for source plan\n",
    "source_peak = source_cell_ts.max().item()\n",
    "ax.axhline(source_peak, color='blue', linestyle='--', alpha=0.5,\n",
    "           label=f'Peak Original: {source_peak:.2f} ft')\n",
    "\n",
    "# Plot data for revised plan  \n",
    "revised_cell_ts = revised_plan_resuls_xr['BaldEagleCr']['Water Surface'].sel(cell_id=target_cell_id)\n",
    "ax.plot(revised_cell_ts.time.values, revised_cell_ts.values,\n",
    "        label=f\"Mannings +0.01 (Plan {revised_plan})\",\n",
    "        color='red', linewidth=1.5)\n",
    "\n",
    "# Add peak value line for revised plan\n",
    "revised_peak = revised_cell_ts.max().item()\n",
    "ax.axhline(revised_peak, color='red', linestyle='--', alpha=0.5,\n",
    "           label=f'Peak Mannings +0.06: {revised_peak:.2f} ft')\n",
    "\n",
    "# Customize the plot\n",
    "ax.set_title(f\"Water Surface Elevation Comparison at Cell {target_cell_id}\")\n",
    "ax.set_xlabel(\"Time\") \n",
    "ax.set_ylabel(\"Water Surface Elevation (ft)\")\n",
    "ax.grid(True, linestyle='--', alpha=0.6)\n",
    "ax.legend()\n",
    "\n",
    "plt.tight_layout()\n",
    "plt.show()\n"
   ]
  },
  {
   "cell_type": "markdown",
   "metadata": {},
   "source": []
  }
 ],
 "metadata": {
  "kernelspec": {
   "display_name": "rascmdr_pip312",
   "language": "python",
   "name": "python3"
  },
  "language_info": {
   "codemirror_mode": {
    "name": "ipython",
    "version": 3
   },
   "file_extension": ".py",
   "mimetype": "text/x-python",
   "name": "python",
   "nbconvert_exporter": "python",
   "pygments_lexer": "ipython3",
   "version": "3.12.9"
  }
 },
 "nbformat": 4,
 "nbformat_minor": 2
}
