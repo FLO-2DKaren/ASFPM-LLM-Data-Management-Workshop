{
 "cells": [
  {
   "cell_type": "code",
   "execution_count": null,
   "id": "2abb34aa",
   "metadata": {},
   "outputs": [],
   "source": [
    "# Automatically set base path to the project directory where the notebook is running\n",
    "from pathlib import Path\n",
    "\n",
    "# This gets the directory where the current notebook is located\n",
    "base_path = Path.cwd()\n",
    "\n",
    "print(f\"📂 Base path automatically set to: {base_path}\")\n",
    "\n"
   ]
  },
  {
   "cell_type": "markdown",
   "id": "493b4680",
   "metadata": {},
   "source": [
    "<div class=\"alert alert-block alert-info\">\n",
    "<b>Note:</b> \n",
    "\n",
    "Copy the Basepath to ChatGPT memory.\n",
    "\n",
    "</div>"
   ]
  },
  {
   "cell_type": "markdown",
   "id": "90cbd4f7-e3f7-4973-b9ea-c658d34187b2",
   "metadata": {
    "id": "90cbd4f7-e3f7-4973-b9ea-c658d34187b2"
   },
   "source": [
    "# 📊 Data Conversion\n",
    "\n",
    "## Purpose\n",
    "Simplify files so that Python can read and parse data easily. Get scripts to process data into different filetypes, and number formats. Convert the time data to a date time that can synchronize a hydrograph input to a date time input.\n"
   ]
  },
  {
   "cell_type": "markdown",
   "id": "f014f51d-d912-450a-867e-eda201e871dd",
   "metadata": {
    "id": "f014f51d-d912-450a-867e-eda201e871dd"
   },
   "source": [
    "# 🔢 Numerical Precision Float Operations\n",
    "\n",
    "## Purpose\n",
    "Precision is crucial in 2D modeling and large data operations because it affects the accuracy of calculations and the reliability of results. Inadequate precision can lead to errors that may impact analyses and simulations, making it vital to understand how to manage numerical data effectively.\n",
    "\n",
    "## Examples\n",
    "Here are some common operations involving float variables:\n",
    "\n",
    "- **Calculate the area of every grid element in a mesh**:\n",
    "- **Convert a float to an integer**:\n",
    "- **Round a float to an integer**:\n",
    "\n",
    "By mastering numerical precision and float variables, you can enhance the accuracy and reliability of your data analysis in various applications!"
   ]
  },
  {
   "cell_type": "markdown",
   "id": "6525efd0",
   "metadata": {},
   "source": [
    "# 🤖ChatGPT Query Example\n",
    "\n",
    "<div class=\"alert alert-block alert-info\">\n",
    "<b>GPT Text:</b>\n",
    "\n",
    "- **Objective**: Create a python script that will print a table of 20 random float numbers with variable precision.\n",
    "- **Data**: Define the difference between floats and integers with respect to python code.\n",
    "- **Data Conversion**: Convert the list of variables to int, then round the first list to int and then convert both cols  back to float.\n",
    "- **Output Format**: print output to cell output.\n",
    "- **Dependencies**: Use Pandas.\n",
    "\n",
    "</div>\n",
    "\n",
    "## ▶️ Code Block\n",
    "***The following cell is an example of what ChatGPT can build.  You can run this code with the dashboard controls or by \"shift-enter\""
   ]
  },
  {
   "cell_type": "code",
   "execution_count": null,
   "id": "e500fe93-bf9e-4971-a41e-4684942b20da",
   "metadata": {
    "id": "e500fe93-bf9e-4971-a41e-4684942b20da"
   },
   "outputs": [],
   "source": [
    "import pandas as pd\n",
    "import numpy as np\n",
    "\n",
    "# Set the random seed for reproducibility\n",
    "np.random.seed(0)\n",
    "\n",
    "# Create a list of float values\n",
    "float_values = np.random.uniform(low=10.5, high=99.5, size=20)\n",
    "\n",
    "# Create a DataFrame with the float values\n",
    "df_floats = pd.DataFrame(float_values, columns=['Float Values'])\n",
    "\n",
    "# Convert float values to integers directly (truncating the decimal part)\n",
    "df_floats['Integer Values'] = df_floats['Float Values'].astype(int)\n",
    "\n",
    "# Round float values before converting to integers\n",
    "df_floats['Rounded Integers'] = df_floats['Float Values'].round().astype(int)\n",
    "\n",
    "# Round float values to 4 decimal places\n",
    "df_floats['Rounded to 4 Decimals'] = df_floats['Float Values'].round(4)\n",
    "\n",
    "# Convert integer values back to floats\n",
    "df_floats['Reconverted Floats'] = df_floats['Integer Values'].astype(float)\n",
    "\n",
    "# Display the DataFrame with original float values, integer values, rounded integers, rounded to 4 decimals, and reconverted float values\n",
    "df_floats\n",
    "\n"
   ]
  },
  {
   "cell_type": "markdown",
   "id": "87dcd2e8-8763-4325-aba5-16d21c6b8980",
   "metadata": {
    "id": "f014f51d-d912-450a-867e-eda201e871dd"
   },
   "source": [
    "# 📐 Numerical Precision with Point Data\n",
    "\n",
    "## Purpose\n",
    "Precision is crucial in 2D modeling and large data operations because it directly influences the accuracy of spatial calculations and the reliability of results. For instance, calculating areas for grid elements in a mesh requires high precision to avoid small errors that can propagate through an analysis. This example demonstrates how numerical precision is handled when reading mesh data and calculating grid element areas.\n",
    "\n",
    "## Examples\n",
    "Here are some common operations involving float variables that you will explore in this notebook:\n",
    "\n",
    "- **Calculate the area of each grid element in a mesh**: This operation demonstrates how spatial data (x, y coordinates) can be used to compute areas with precision.\n",
    "  \n",
    "By mastering precision in numerical data handling, you can enhance the accuracy of your floodplain modeling and grid analysis!\n"
   ]
  },
  {
   "cell_type": "markdown",
   "id": "1eb97ddc-171a-4fe9-8bcb-6f22567fca29",
   "metadata": {},
   "source": [
    "# 🤖 Example ChatGPT Query\n",
    "\n",
    "<div class=\"alert alert-block alert-info\">\n",
    "<b>GPT Text:</b>\n",
    "\n",
    "- **Objective**: Calculate the grid cell size and area for a centroid point file with space-delimited x, y, z data.\n",
    "- **Data**: Each row in the file represents a centroid with x, y, and z coordinates. No headers are present.\n",
    "- **Skip Lines**: Not applicable as there are no headers or initial lines to skip.\n",
    "- **Output Format**: Save the output in a CSV file named `topoarea.csv` with columns for x, y, z, grid size, and area.\n",
    "- **Dependencies**: Use Pandas to handle data reading, calculations, and writing to CSV.\n",
    "- **File Paths**: Include variables to set file paths for reading the input (`topo.dat`) and writing the output (`topoarea.csv`).\n",
    "- **Path**: Let Chat GPT know you want to join the base_path to this: \\Data\\Grids`\n",
    "- **Request**: Can you create a Python script to calculate grid sizes based on consecutive y-values and compute areas assuming square cells, then write this data to a CSV file?\n",
    "\n",
    "</div>\n",
    "\n",
    "## ▶️ Code Block\n",
    "\n",
    "The following code block is the result of this query. (Insert your Python code here if needed)\n"
   ]
  },
  {
   "cell_type": "code",
   "execution_count": null,
   "id": "cad01830-aa04-4314-8550-38498b403e5d",
   "metadata": {},
   "outputs": [],
   "source": [
    "import pandas as pd\n",
    "\n",
    "# File paths\n",
    "input_file_path = base_path / 'Data' / 'Grids' / 'topo.dat'\n",
    "output_file_path = base_path / 'Data' / 'Grids' / 'topoarea.csv'\n",
    "\n",
    "# Load data from space-delimited file without headers\n",
    "data = pd.read_csv(input_file_path, header=None, sep=r'\\s+', names=['x', 'y', 'z'])\n",
    "\n",
    "# Calculate grid size assuming it's determined by the difference in consecutive y-values\n",
    "data['grid_size'] = data['y'].diff().abs()\n",
    "\n",
    "# Calculate the area of the square cell (grid size squared)\n",
    "data['area'] = data['grid_size'] ** 2\n",
    "\n",
    "# Handle the first row where the grid size calculation might result in a NaN\n",
    "#data.fillna(method='bfill', inplace=True)\n",
    "\n",
    "# Save to CSV\n",
    "data.to_csv(output_file_path, index=False)\n",
    "\n",
    "print(f'Data saved to {output_file_path}')\n"
   ]
  },
  {
   "cell_type": "markdown",
   "id": "2c6e8a28-a424-439d-93b7-4e0a109a36f3",
   "metadata": {},
   "source": [
    "# 🗺️ Numerical Precision with Polygon Grid Data\n",
    "\n",
    "## Purpose\n",
    "Precision plays a key role in geoprocessing tasks, particularly when calculating areas from polygon grids in GIS. In this example, we calculate the area of each cell in a polygon grid system. While this method is often used in geospatial analyses, it may not be as precise as methods based on structured grid systems. Understanding the limitations of precision in such operations is crucial for accurate modeling and analysis.\n",
    "\n",
    "## Examples\n",
    "Here are some common operations involving float variables and geospatial data:\n",
    "\n",
    "- **Calculate the area of each polygon in a shapefile**: This shows how spatial polygons from a grid system can be used to compute areas.\n",
    "- **Ensure valid geometries and correct CRS**: Ensuring that the geometries are valid and in the correct coordinate system is crucial for accuracy.\n",
    "- **Convert areas to specific units**: The area can be converted to other units (e.g., hectares) as needed.\n",
    "\n",
    "By mastering these geoprocessing techniques and understanding how precision influences polygon-based grid systems, you can improve the accuracy and reliability of spatial analyses in GIS workflows.\n"
   ]
  },
  {
   "cell_type": "markdown",
   "id": "0923fe0a-cc95-435a-ae3e-a3fa0285eb03",
   "metadata": {},
   "source": [
    "# 🤖 Example Query\n",
    "\n",
    "<div class=\"alert alert-block alert-info\">\n",
    "<b>GPT Text:</b>\n",
    "\n",
    "- **Objective**: Calculate the grid cell size and area grid shapefile that has a single polygon for each grid element.\n",
    "- **Data**: grid.shp polygon grid element\n",
    "- **Output Format**: Save the output in a CSV file named `gridarea.csv` grid size and area.\n",
    "- **Dependencies**: Use GeoPandas to handle data reading, calculations, and writing to CSV.\n",
    "- **Path**: `C:\\Users\\Karen\\Chat GPT Workshop\\Data\\Grids`\n",
    "- **Request**: Can you create a Python script to calculate grid size and area based polygons in the shapefile then write this data to a CSV file?\n",
    "</div>\n",
    "\n",
    "## ▶️ Code Block\n",
    "\n",
    "The following code block is the result of this query. (Insert your Python code here if needed)"
   ]
  },
  {
   "cell_type": "code",
   "execution_count": null,
   "id": "d271b11e-a697-4357-a5be-377c8429387a",
   "metadata": {},
   "outputs": [],
   "source": [
    "import geopandas as gpd\n",
    "\n",
    "# File paths\n",
    "input_file_path = base_path / 'Data' / 'Grids' / 'grid.shp'\n",
    "output_file_path = base_path / 'Data' / 'Grids' / 'gridarea.csv'\n",
    "\n",
    "# Load the shapefile\n",
    "gdf = gpd.read_file(input_file_path)\n",
    "\n",
    "# Calculate the area of each polygon (assumed to be in CRS units that represent meters or feet)\n",
    "gdf['area'] = gdf['geometry'].area\n",
    "\n",
    "# Assuming a square grid, calculate the grid size as the square root of the area\n",
    "gdf['grid_size'] = gdf['area'] ** 0.5\n",
    "\n",
    "# Round grid size and area to the nearest integer\n",
    "gdf['grid_size'] = gdf['grid_size'].round().astype(int)\n",
    "gdf['area'] = gdf['area'].round().astype(int)\n",
    "\n",
    "# Save to CSV\n",
    "gdf[['grid_size', 'area']].to_csv(output_file_path, index=False)\n",
    "\n",
    "print(f'Data saved to {output_file_path}')\n",
    "\n"
   ]
  }
 ],
 "metadata": {
  "colab": {
   "provenance": []
  },
  "kernelspec": {
   "display_name": "Python 3",
   "language": "python",
   "name": "python3"
  },
  "language_info": {
   "codemirror_mode": {
    "name": "ipython",
    "version": 3
   },
   "file_extension": ".py",
   "mimetype": "text/x-python",
   "name": "python",
   "nbconvert_exporter": "python",
   "pygments_lexer": "ipython3",
   "version": "3.12.9"
  }
 },
 "nbformat": 4,
 "nbformat_minor": 5
}
