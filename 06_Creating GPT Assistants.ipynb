{
 "cells": [
  {
   "cell_type": "markdown",
   "metadata": {},
   "source": [
    "# 🤖 What is a GPT Assistant? \n",
    "\n",
    "A ChatGPT \"GPT\" is simply a pairing of an LLM with instructions, data and tools.  While \"GPT\" is a proprietary term for OpenAI's solution, similar workflows can be achieved on other platforms such as Claude's \"Projects\" and Google's AI Studio's \"Create a Prompt\"\n",
    "\n",
    "## Web Search\n",
    "\n",
    "![ChatGPT Web Search](images/chatgpt-websearch.png)\n",
    "\n",
    "## Deep Research\n",
    "\n",
    "![ChatGPT Deep Research](images/chatgpt-deepresearch.png)"
   ]
  },
  {
   "cell_type": "markdown",
   "metadata": {
    "vscode": {
     "languageId": "plaintext"
    }
   },
   "source": [
    "# 🌐 Leveraging Web Search and Deep Research\n",
    "\n",
    "If the information is widely available on the internet, you may not need a GPT at all!  \n",
    "Let's create a prompt and enable the \"Web Search\" and \"Deep Research\" options and \n",
    "observe the difference in the chat response. \n",
    "\n",
    "\n",
    "For this chat, utilize [ChatGPT's o3-mini-high](https://chatgpt.com/?model=o3-mini-high) \n",
    "which has access to both Web Search and Deep Research tools. \n",
    "\n",
    "\n",
    "<div class=\"alert alert-block alert-info\">\n",
    "<b>GPT Text:</b>\n",
    "\n",
    "You are a helpful assistant and QGIS Expert.  Your responses should be sourced from \n",
    "the latest documentation available for QGIS version 3.40 at:\n",
    "https://docs.qgis.org/3.40/en/docs/ \n",
    "\n",
    "User Request: \n",
    "\n",
    "I am an ArcGIS user and I know how to perform hydrological analysis using ESRI's tools. \n",
    "Provide an overview of the available tools in QGIS and provide an example workflow.\n",
    "\n",
    "</div>\n",
    "\n",
    "[Web Search Result](https://chatgpt.com/share/67f2d72d-4634-8010-a651-93fd122d4780)\n",
    "\n",
    "[Deep Research Result]()\n",
    "Note: Deep Research may take a while.  Open a new tab and let it work, check it later!\n"
   ]
  },
  {
   "cell_type": "markdown",
   "metadata": {},
   "source": [
    "# 🛠️ Build a pyQGIS Assistant\n",
    "\n",
    "First, download the QGIS Documentation repository from GitHub\n",
    "\n",
    "https://github.com/qgis/QGIS-Documentation/tree/master\n",
    "\n",
    "![QGIS Documentation Repository on GitHub](images/qgis_documentation_repo.png)\n"
   ]
  },
  {
   "cell_type": "markdown",
   "metadata": {},
   "source": [
    "Prepare the pyQGIS documentation as an LLM-friendly knowledge base\n",
    "\n",
    "- Open the zip and navigate to \\QGIS-Documentation-master\\docs\\pyqgis_developer_cookbook\n",
    "\n",
    "- Delete the \"img\" folders.  The resulting files should be around 350kb, which is small enough to fit in most LLM context windows.\n",
    "\n",
    "- zip the pyqgis_developer_cookbook folder to send to ChatGPT 4o.\n",
    "\n",
    "- ChatGPT Instructions:\n",
    "\n",
    "<div class=\"alert alert-block alert-info\">\n",
    "Combine all files in this zip file into a single file.  Put separators between each file and include each file name when combining.\n",
    "</div>\n",
    "\n",
    "- Download the combined text file\n",
    "\n",
    "We can now use this knowledge base with ChatGPT (any model) or Claude, Google etc.  For our purposes, we will create a GPT.  "
   ]
  },
  {
   "cell_type": "markdown",
   "metadata": {},
   "source": [
    "# 🛠️ GPT Creator \n",
    "\n",
    "[GPT Creator](https://chatgpt.com/gpts/editor)\n",
    "\n",
    "<div class=\"alert alert-block alert-info\">\n",
    "\n",
    "Name: Python GIS Assistant.\n",
    "\n",
    "Description: Helpful assistant with access to the pyQGIS documentation. \n",
    "\n",
    "Instructions: You are a helpful assistant with access to the pyQGIS documentation.  Answer from this documentation and assist the user with their request.  \n",
    "\n",
    "Knowledge: (upload combined text file)\n",
    "\n",
    "</div>\n",
    "\n",
    "Here is the just created GPT: https://chatgpt.com/g/g-67f2db94920c8191aec8c8b1393bf195-python-gis-assistant"
   ]
  },
  {
   "cell_type": "markdown",
   "metadata": {},
   "source": [
    "** This GPT assistant will be used later in the presentation**"
   ]
  }
 ],
 "metadata": {
  "kernelspec": {
   "display_name": "base",
   "language": "python",
   "name": "python3"
  },
  "language_info": {
   "codemirror_mode": {
    "name": "ipython",
    "version": 3
   },
   "file_extension": ".py",
   "mimetype": "text/x-python",
   "name": "python",
   "nbconvert_exporter": "python",
   "pygments_lexer": "ipython3",
   "version": "3.9.7"
  }
 },
 "nbformat": 4,
 "nbformat_minor": 2
}
